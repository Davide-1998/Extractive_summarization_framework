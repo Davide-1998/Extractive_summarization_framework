{
 "cells": [
  {
   "cell_type": "markdown",
   "id": "47bde9ed",
   "metadata": {},
   "source": [
    "# Extractive Summarization"
   ]
  },
  {
   "cell_type": "markdown",
   "id": "ea64b9b1",
   "metadata": {},
   "source": [
    "## Load necessary modules"
   ]
  },
  {
   "cell_type": "code",
   "execution_count": 2,
   "id": "85248439",
   "metadata": {},
   "outputs": [],
   "source": [
    "from datasets import load_dataset\n",
    "import pandas as pd\n",
    "import optuna\n",
    "\n",
    "from Dataset import Dataset"
   ]
  },
  {
   "cell_type": "markdown",
   "id": "1c5ca9e7",
   "metadata": {},
   "source": [
    "## Define optimization task functions"
   ]
  },
  {
   "cell_type": "code",
   "execution_count": 72,
   "id": "3730f475",
   "metadata": {},
   "outputs": [],
   "source": [
    "def CNN_scores_best_representation(trial, CNN_dataset, value, pipeline=None, lemma=False):\n",
    "    scores = set()\n",
    "    available_scores = CNN_dataset.get_num_weights(True)\n",
    "    \n",
    "    i = trial.suggest_int('Number_of_scores', 1, len(available_scores))\n",
    "    for x in range(i):\n",
    "        score = trial.suggest_categorical('Score-%d' % x, available_scores)\n",
    "        scores.add(score)\n",
    "\n",
    "    CNN_dataset.process_dataset(scoreList=scores, all_loc_scores=True, lemma=lemma, nlp=pipeline)\n",
    "    results = CNN_dataset.rouge_computation(show=False)\n",
    "    return results.loc['Mean'][value]\n",
    "\n",
    "\n",
    "def CNN_scores_weights_task(trial, CNN_dataset, value, pipeline=None, lemma=False):\n",
    "    scores = [x for x in CNN_dataset.get_num_weights(True)]\n",
    "    weights = [1 for x in range(len(scores))]\n",
    "\n",
    "    for score in scores:\n",
    "        idx = scores.index(score)\n",
    "        weights[idx] = trial.suggest_float(score, -10.0, 10.0, step=0.5)\n",
    "    CNN_dataset.process_dataset(scoreList=scores, all_loc_scores=True, nlp=pipeline, lemma=lemma)\n",
    "    results = CNN_dataset.rouge_computation(weights=weights, show=False)\n",
    "    return results.loc['Mean'][value]"
   ]
  },
  {
   "cell_type": "markdown",
   "id": "5e798e5b",
   "metadata": {},
   "source": [
    "## Load CNN\\_dailymail dataset and initiate Dataset data structure"
   ]
  },
  {
   "cell_type": "code",
   "execution_count": 4,
   "id": "534a4fe6",
   "metadata": {},
   "outputs": [
    {
     "name": "stderr",
     "output_type": "stream",
     "text": [
      "Reusing dataset cnn_dailymail (/home/davide/.cache/huggingface/datasets/cnn_dailymail/3.0.0/3.0.0/3cb851bf7cf5826e45d49db2863f627cba583cbc32342df7349dfe6c38060234)\n"
     ]
    },
    {
     "data": {
      "application/vnd.jupyter.widget-view+json": {
       "model_id": "34c84c989da44e26952efcb66e9f53f8",
       "version_major": 2,
       "version_minor": 0
      },
      "text/plain": [
       "  0%|          | 0/3 [00:00<?, ?it/s]"
      ]
     },
     "metadata": {},
     "output_type": "display_data"
    }
   ],
   "source": [
    "# Load dataset into a variable\n",
    "CNN_dataset = load_dataset('cnn_dailymail', '3.0.0')\n",
    "\n",
    "# Create a new instance of the Dataset class with a custom name\n",
    "CNN_processed = Dataset(name='CNN_processed.json')"
   ]
  },
  {
   "cell_type": "markdown",
   "id": "f177fff0",
   "metadata": {},
   "source": [
    "## Meena and Gopalani strategy comparison"
   ]
  },
  {
   "cell_type": "code",
   "execution_count": 11,
   "id": "2f9085cc",
   "metadata": {},
   "outputs": [
    {
     "name": "stderr",
     "output_type": "stream",
     "text": [
      "processing dataset: :   0%|                                         | 27/287113 [00:05<13:44:51,  5.80it/s]/home/davide/Desktop/NLU_Final_Project/Dataset.py:105: UserWarning: [W008] Evaluating Span.similarity based on empty vectors.\n",
      "  sentence_similarity = sentence.similarity(sent2)\n",
      "processing dataset: :   0%|                                        | 100/287113 [00:17<14:15:38,  5.59it/s]\n"
     ]
    },
    {
     "name": "stdout",
     "output_type": "stream",
     "text": [
      "Dataset built in 18.49911141395569[sec]\n"
     ]
    },
    {
     "name": "stderr",
     "output_type": "stream",
     "text": [
      "computing scores: : 100%|████████████████████████████████████████████████| 100/100 [00:01<00:00, 59.28it/s]\n"
     ]
    },
    {
     "name": "stdout",
     "output_type": "stream",
     "text": [
      "Dataset processed in: 1.6881[sec]\n"
     ]
    },
    {
     "name": "stderr",
     "output_type": "stream",
     "text": [
      "computing scores: : 100%|███████████████████████████████████████████████| 100/100 [00:00<00:00, 104.89it/s]\n"
     ]
    },
    {
     "name": "stdout",
     "output_type": "stream",
     "text": [
      "Dataset processed in: 0.9544[sec]\n"
     ]
    },
    {
     "name": "stderr",
     "output_type": "stream",
     "text": [
      "computing scores: : 100%|████████████████████████████████████████████████| 100/100 [00:01<00:00, 63.07it/s]\n"
     ]
    },
    {
     "name": "stdout",
     "output_type": "stream",
     "text": [
      "Dataset processed in: 1.5865[sec]\n"
     ]
    },
    {
     "name": "stderr",
     "output_type": "stream",
     "text": [
      "computing scores: : 100%|████████████████████████████████████████████████| 100/100 [00:01<00:00, 51.96it/s]\n"
     ]
    },
    {
     "name": "stdout",
     "output_type": "stream",
     "text": [
      "Dataset processed in: 1.9255[sec]\n"
     ]
    },
    {
     "name": "stderr",
     "output_type": "stream",
     "text": [
      "computing scores: : 100%|████████████████████████████████████████████████| 100/100 [00:01<00:00, 54.21it/s]\n"
     ]
    },
    {
     "name": "stdout",
     "output_type": "stream",
     "text": [
      "Dataset processed in: 1.8458[sec]\n"
     ]
    },
    {
     "name": "stderr",
     "output_type": "stream",
     "text": [
      "computing scores: : 100%|████████████████████████████████████████████████| 100/100 [00:03<00:00, 30.57it/s]\n"
     ]
    },
    {
     "name": "stdout",
     "output_type": "stream",
     "text": [
      "Dataset processed in: 3.2728[sec]\n"
     ]
    },
    {
     "name": "stderr",
     "output_type": "stream",
     "text": [
      "computing scores: : 100%|████████████████████████████████████████████████| 100/100 [00:03<00:00, 32.32it/s]"
     ]
    },
    {
     "name": "stdout",
     "output_type": "stream",
     "text": [
      "Dataset processed in: 3.0951[sec]\n",
      "    Rouge-2  Precision  F1-score\n",
      "0  0.114578   0.035599  0.053768\n",
      "1  0.070260   0.048146  0.055320\n",
      "2  0.117600   0.036917  0.055564\n",
      "3  0.146901   0.075990  0.097490\n",
      "4  0.144287   0.074426  0.095598\n",
      "5  0.120043   0.037519  0.056511\n",
      "6  0.119123   0.037252  0.056104\n"
     ]
    },
    {
     "name": "stderr",
     "output_type": "stream",
     "text": [
      "\n"
     ]
    }
   ],
   "source": [
    "# Meena & Gopalani environment\n",
    "MG_scores = {\n",
    "             'comb1': ['TF_ISF_IDF', 'co_occur', 'sent_length'],\n",
    "             'comb2': ['co_occur', 'sent_length', 'sent_location'],\n",
    "             'comb3': ['TF_ISF_IDF', 'co_occur', 'sent_length',\n",
    "                       'sent_location'],\n",
    "             'comb4': ['sent_length', 'sent_location', 'named_entities',\n",
    "                       'pos_keywords', 'proper_noun'],\n",
    "             'comb5': ['co_occur', 'sent_length', 'sent_location',\n",
    "                       'named_entities', 'pos_keywords', 'proper_noun'],\n",
    "             'comb6': ['TF_ISF_IDF', 'co_occur', 'sent_length',\n",
    "                       'sent_location', 'named_entities', 'pos_keywords',\n",
    "                       'neg_keywords', 'sent_rank'],\n",
    "             'comb7': ['TF_ISF_IDF', 'co_occur', 'sent_length',\n",
    "                       'sent_location', 'named_entities', 'pos_keywords',\n",
    "                       'neg_keywords']\n",
    "             }\n",
    "\n",
    "# Meena & Golapani initial test\n",
    "MG_test = Dataset(name='MG_test_dataset.json')\n",
    "MG_num_docs = 100\n",
    "MG_test.build_dataset(CNN_dataset['train'], MG_num_docs)\n",
    "MG_results = pd.DataFrame()\n",
    "for comb, scores in MG_scores.items():\n",
    "    MG_test.process_dataset(scoreList=scores)\n",
    "    MG_rouge = MG_test.rouge_computation(show=False)\n",
    "    MG_results = pd.concat([MG_results, MG_rouge.loc['Mean']], axis=1,\n",
    "                           ignore_index=True)\n",
    "print(MG_results.T)"
   ]
  },
  {
   "cell_type": "markdown",
   "id": "05fe29c3",
   "metadata": {},
   "source": [
    "## All scores computation"
   ]
  },
  {
   "cell_type": "markdown",
   "id": "6ab8b5f3",
   "metadata": {},
   "source": [
    "A warning is flagged in processing document 27 due to some of its token being unknown by spacy"
   ]
  },
  {
   "cell_type": "code",
   "execution_count": 9,
   "id": "4b38285b",
   "metadata": {},
   "outputs": [
    {
     "name": "stderr",
     "output_type": "stream",
     "text": [
      "processing dataset: :   0%|                                          | 6/287113 [00:01<16:32:16,  4.82it/s]\n",
      "computing scores: : 100%|████████████████████████████████████████████████████| 6/6 [00:00<00:00, 23.73it/s]\n"
     ]
    },
    {
     "name": "stdout",
     "output_type": "stream",
     "text": [
      "Dataset processed in: 0.2541[sec]\n"
     ]
    },
    {
     "name": "stderr",
     "output_type": "stream",
     "text": [
      "processing dataset: :   0%|                                         | 27/287113 [00:04<10:20:07,  7.72it/s]/home/davide/Desktop/NLU_Final_Project/Dataset.py:105: UserWarning: [W008] Evaluating Span.similarity based on empty vectors.\n",
      "  sentence_similarity = sentence.similarity(sent2)\n",
      "processing dataset: :   0%|                                        | 100/287113 [00:16<13:30:25,  5.90it/s]\n",
      "computing scores: : 100%|████████████████████████████████████████████████| 100/100 [00:04<00:00, 24.16it/s]\n"
     ]
    },
    {
     "name": "stdout",
     "output_type": "stream",
     "text": [
      "Dataset processed in: 4.1399[sec]\n"
     ]
    },
    {
     "name": "stderr",
     "output_type": "stream",
     "text": [
      "processing dataset: :   0%|▏                                      | 1000/287113 [02:44<13:04:13,  6.08it/s]\n",
      "computing scores: : 100%|██████████████████████████████████████████████| 1000/1000 [02:11<00:00,  7.63it/s]\n"
     ]
    },
    {
     "name": "stdout",
     "output_type": "stream",
     "text": [
      "Dataset processed in: 131.1135[sec]\n",
      "       Rouge-2  Precision  F1-score\n",
      "6     0.109382   0.028958  0.045368\n",
      "100   0.120221   0.037403  0.056382\n",
      "1000  0.123249   0.038178  0.057659\n"
     ]
    }
   ],
   "source": [
    "results = pd.DataFrame(columns=['Rouge-2', 'Precision', 'F1-score'])\n",
    "for _doc_num in [6, 100, 1000]:\n",
    "    CNN_processed.process_dataset(CNN_dataset['train'], doc_th=_doc_num)\n",
    "    res = CNN_processed.rouge_computation(show=False)\n",
    "    results.loc[_doc_num] = res.loc['Mean'].T\n",
    "print(results)"
   ]
  },
  {
   "cell_type": "markdown",
   "id": "6b80edbb",
   "metadata": {},
   "source": [
    "## Experiment: Maximum among all the computed Sentence location scores "
   ]
  },
  {
   "cell_type": "code",
   "execution_count": 15,
   "id": "fe409c26",
   "metadata": {},
   "outputs": [
    {
     "name": "stderr",
     "output_type": "stream",
     "text": [
      "processing dataset: :   0%|                                         | 27/287113 [00:04<10:23:01,  7.68it/s]/home/davide/Desktop/NLU_Final_Project/Dataset.py:105: UserWarning: [W008] Evaluating Span.similarity based on empty vectors.\n",
      "  sentence_similarity = sentence.similarity(sent2)\n",
      "processing dataset: :   0%|                                        | 100/287113 [00:17<13:50:42,  5.76it/s]\n",
      "computing scores: : 100%|████████████████████████████████████████████████| 100/100 [00:04<00:00, 23.96it/s]"
     ]
    },
    {
     "name": "stdout",
     "output_type": "stream",
     "text": [
      "Dataset processed in: 4.1745[sec]\n",
      "                                           Rouge-2  Precision  F1-score\n",
      "0001d1afc246a7964130f43ae940af6bc6c57f01  0.120000   0.027650  0.044944\n",
      "0002095e55fcbd3a2f366d9bf92a95433dc305ef  0.111111   0.017964  0.030928\n",
      "00027e965c8264c35cc1bc55556db388da82b07f  0.027027   0.007246  0.011429\n",
      "0002c17436637c4fe1837c935c04de47adb18e9a  0.062500   0.016760  0.026432\n",
      "0003ad6ef0c37534f80b55b4235108024b407f0b  0.031250   0.010526  0.015748\n",
      "...                                            ...        ...       ...\n",
      "004f0f8c694c4b546b29565a8993a555537ff561  0.054054   0.016260  0.025000\n",
      "004fc12e7cd2505a013d96e816afae3f3ce5015d  0.258065   0.109589  0.153846\n",
      "00504275ede73591d94a6c1f994fd4856610421c  0.019608   0.007812  0.011173\n",
      "00512126d65bf2a36801e4ef37f28c86c29deb28  0.085106   0.021053  0.033755\n",
      "Mean                                      0.122133   0.038602  0.057941\n",
      "\n",
      "[101 rows x 3 columns]\n"
     ]
    },
    {
     "name": "stderr",
     "output_type": "stream",
     "text": [
      "\n"
     ]
    }
   ],
   "source": [
    "# Sum of Location scoring strategies\n",
    "CNN_processed = Dataset('CNN_dataset')\n",
    "CNN_processed.process_dataset(CNN_dataset['train'], doc_th=100,\n",
    "                              all_loc_scores=True)\n",
    "result = CNN_processed.rouge_computation()"
   ]
  },
  {
   "cell_type": "markdown",
   "id": "7cd9f118",
   "metadata": {},
   "source": [
    "## Experiment: Location scoring with threshold analysis"
   ]
  },
  {
   "cell_type": "code",
   "execution_count": null,
   "id": "c2f1eb2e",
   "metadata": {},
   "outputs": [],
   "source": [
    "# Nobata Location Treshold analysis\n",
    "CNN_processed = Dataset('CNN_dataset')\n",
    "CNN_processed.build_dataset(CNN_dataset['train'], doc_th=100)\n",
    "loc_task = pd.DataFrame(columns=['Rouge-2', 'Precision', 'F1-score'])\n",
    "for x in range(1, 21):\n",
    "    CNN_processed.process_dataset(loc_th=x, all_loc_scores=True)\n",
    "    loc_task.loc[x] = CNN_processed.rouge_computation(show=False).loc['Mean']\n",
    "print(loc_task)"
   ]
  },
  {
   "cell_type": "markdown",
   "id": "13091198",
   "metadata": {},
   "source": [
    "## Experiment: Location Scoring with treshold analysis using only Nobata et al. method"
   ]
  },
  {
   "cell_type": "code",
   "execution_count": null,
   "id": "b04b8f27",
   "metadata": {},
   "outputs": [],
   "source": [
    "# Nobata Location Treshold analysis part 2\n",
    "CNN_processed = Dataset('CNN_dataset')\n",
    "CNN_processed.build_dataset(CNN_dataset['train'], doc_th=100)\n",
    "loc_task = pd.DataFrame(columns=['Rouge-2', 'Precision', 'F1-score'])\n",
    "for x in range(1, 21):\n",
    "    CNN_processed.process_dataset(loc_th=x, locFilter=[0, 1, 0, 0, 0])  # Only NB1 used\n",
    "    loc_task.loc[x] = CNN_processed.rouge_computation(show=False).loc['Mean']\n",
    "print(loc_task)"
   ]
  },
  {
   "cell_type": "markdown",
   "id": "866892d8",
   "metadata": {},
   "source": [
    "## Experiment: Lemma Usage"
   ]
  },
  {
   "cell_type": "code",
   "execution_count": 25,
   "id": "66739158",
   "metadata": {},
   "outputs": [
    {
     "name": "stderr",
     "output_type": "stream",
     "text": [
      "processing dataset: :   0%|                                         | 27/287113 [00:04<10:21:07,  7.70it/s]/home/davide/Desktop/NLU_Final_Project/Dataset.py:105: UserWarning: [W008] Evaluating Span.similarity based on empty vectors.\n",
      "  sentence_similarity = sentence.similarity(sent2)\n",
      "processing dataset: :   0%|                                        | 100/287113 [00:16<13:31:18,  5.90it/s]\n",
      "computing scores: : 100%|████████████████████████████████████████████████| 100/100 [00:04<00:00, 24.14it/s]\n"
     ]
    },
    {
     "name": "stdout",
     "output_type": "stream",
     "text": [
      "Dataset processed in: 4.1430[sec]\n"
     ]
    },
    {
     "name": "stderr",
     "output_type": "stream",
     "text": [
      "processing dataset: :   0%|                                        | 100/287113 [00:16<13:25:31,  5.94it/s]\n",
      "computing scores: : 100%|████████████████████████████████████████████████| 100/100 [00:04<00:00, 24.51it/s]"
     ]
    },
    {
     "name": "stdout",
     "output_type": "stream",
     "text": [
      "Dataset processed in: 4.0817[sec]\n",
      "        Rouge-2  Precision  F1-score\n",
      "False  0.122133   0.038602  0.057941\n",
      "True   0.156094   0.059743  0.085454\n"
     ]
    },
    {
     "name": "stderr",
     "output_type": "stream",
     "text": [
      "\n"
     ]
    }
   ],
   "source": [
    "results = pd.DataFrame(columns=['Rouge-2', 'Precision', 'F1-score'])\n",
    "CNN_processed = Dataset('CNN_dataset')\n",
    "# CNN_processed.build_dataset(CNN_dataset['train'], doc_th=100)\n",
    "\n",
    "_doc_num = 100\n",
    "for _lemma in [False, True]:\n",
    "    CNN_processed.process_dataset(CNN_dataset['train'], doc_th=100,\n",
    "                                  lemma=_lemma, all_loc_scores=True)\n",
    "    res = CNN_processed.rouge_computation(show=False)\n",
    "    results.loc[str(_lemma)] = res.loc['Mean'].T\n",
    "print(results)"
   ]
  },
  {
   "cell_type": "markdown",
   "id": "454d812c",
   "metadata": {},
   "source": [
    "## Experiment: Best Weights with and Without lemma usage optimization task"
   ]
  },
  {
   "cell_type": "markdown",
   "id": "a714a0e0",
   "metadata": {},
   "source": [
    "Will take 30min to run"
   ]
  },
  {
   "cell_type": "code",
   "execution_count": 43,
   "id": "933d532b",
   "metadata": {
    "scrolled": true
   },
   "outputs": [
    {
     "name": "stderr",
     "output_type": "stream",
     "text": [
      "Reusing dataset cnn_dailymail (/home/davide/.cache/huggingface/datasets/cnn_dailymail/3.0.0/3.0.0/3cb851bf7cf5826e45d49db2863f627cba583cbc32342df7349dfe6c38060234)\n"
     ]
    },
    {
     "data": {
      "application/vnd.jupyter.widget-view+json": {
       "model_id": "147994e4122e44269ea986cfcef7a69b",
       "version_major": 2,
       "version_minor": 0
      },
      "text/plain": [
       "  0%|          | 0/3 [00:00<?, ?it/s]"
      ]
     },
     "metadata": {},
     "output_type": "display_data"
    },
    {
     "name": "stderr",
     "output_type": "stream",
     "text": [
      "processing dataset: :   0%|                                          | 3/287113 [00:00<22:47:50,  3.50it/s]\n",
      "\u001b[32m[I 2021-12-21 23:09:02,370]\u001b[0m A new study created in memory with name: no-name-aa819bbe-f8d3-44b2-b338-ee8f4d63c4ba\u001b[0m\n",
      "computing scores: : 100%|████████████████████████████████████████████████████| 3/3 [00:00<00:00, 15.96it/s]\n",
      "\u001b[32m[I 2021-12-21 23:09:02,563]\u001b[0m Trial 0 finished with value: 0.0 and parameters: {'TF': 2.0, 'sent_location': -3.5, 'proper_noun': -2.5, 'co_occur': -3.0, 'sent_similarity': 4.0, 'num_val': 1.0, 'TF_ISF_IDF': 0.0, 'sent_rank': -3.5, 'sent_length': 3.0, 'pos_keywords': -10.0, 'neg_keywords': -10.0, 'thematic_features': 7.0, 'named_entities': 1.5}. Best is trial 0 with value: 0.0.\u001b[0m\n"
     ]
    },
    {
     "name": "stdout",
     "output_type": "stream",
     "text": [
      "Dataset processed in: 0.1890[sec]\n"
     ]
    },
    {
     "name": "stderr",
     "output_type": "stream",
     "text": [
      "computing scores: : 100%|████████████████████████████████████████████████████| 3/3 [00:00<00:00, 16.16it/s]\n",
      "\u001b[32m[I 2021-12-21 23:09:02,754]\u001b[0m Trial 1 finished with value: 0.020833333333333332 and parameters: {'TF': -1.0, 'sent_location': 7.5, 'proper_noun': -5.0, 'co_occur': 10.0, 'sent_similarity': -5.0, 'num_val': -7.0, 'TF_ISF_IDF': -7.0, 'sent_rank': 6.0, 'sent_length': -4.5, 'pos_keywords': 7.0, 'neg_keywords': 2.5, 'thematic_features': -7.0, 'named_entities': 10.0}. Best is trial 1 with value: 0.020833333333333332.\u001b[0m\n"
     ]
    },
    {
     "name": "stdout",
     "output_type": "stream",
     "text": [
      "Dataset processed in: 0.1866[sec]\n"
     ]
    },
    {
     "name": "stderr",
     "output_type": "stream",
     "text": [
      "computing scores: : 100%|████████████████████████████████████████████████████| 3/3 [00:00<00:00, 16.05it/s]\n",
      "\u001b[32m[I 2021-12-21 23:09:02,947]\u001b[0m Trial 2 finished with value: 0.016504154479928965 and parameters: {'TF': -2.0, 'sent_location': -5.0, 'proper_noun': -6.5, 'co_occur': 1.0, 'sent_similarity': -9.5, 'num_val': 6.5, 'TF_ISF_IDF': 5.0, 'sent_rank': 3.5, 'sent_length': 6.5, 'pos_keywords': 5.5, 'neg_keywords': 2.5, 'thematic_features': -5.0, 'named_entities': 5.0}. Best is trial 1 with value: 0.020833333333333332.\u001b[0m\n"
     ]
    },
    {
     "name": "stdout",
     "output_type": "stream",
     "text": [
      "Dataset processed in: 0.1881[sec]\n"
     ]
    },
    {
     "name": "stderr",
     "output_type": "stream",
     "text": [
      "computing scores: : 100%|████████████████████████████████████████████████████| 3/3 [00:00<00:00, 99.63it/s]\n"
     ]
    },
    {
     "name": "stdout",
     "output_type": "stream",
     "text": [
      "Dataset processed in: 0.0315[sec]\n"
     ]
    },
    {
     "name": "stderr",
     "output_type": "stream",
     "text": [
      "Reusing dataset cnn_dailymail (/home/davide/.cache/huggingface/datasets/cnn_dailymail/3.0.0/3.0.0/3cb851bf7cf5826e45d49db2863f627cba583cbc32342df7349dfe6c38060234)\n"
     ]
    },
    {
     "data": {
      "application/vnd.jupyter.widget-view+json": {
       "model_id": "e4e56e593f034ef195a7cef17866d2a0",
       "version_major": 2,
       "version_minor": 0
      },
      "text/plain": [
       "  0%|          | 0/3 [00:00<?, ?it/s]"
      ]
     },
     "metadata": {},
     "output_type": "display_data"
    },
    {
     "name": "stderr",
     "output_type": "stream",
     "text": [
      "processing dataset: :   0%|                                          | 3/287113 [00:00<22:54:05,  3.48it/s]\n",
      "\u001b[32m[I 2021-12-21 23:09:06,024]\u001b[0m A new study created in memory with name: no-name-6fa33993-f8dd-466a-b7f4-fd1694bfd71b\u001b[0m\n",
      "computing scores: : 100%|████████████████████████████████████████████████████| 3/3 [00:00<00:00, 16.53it/s]\n",
      "\u001b[32m[I 2021-12-21 23:09:06,211]\u001b[0m Trial 0 finished with value: 0.04047018111973586 and parameters: {'TF': 5.0, 'sent_location': 3.5, 'proper_noun': 6.5, 'co_occur': -7.0, 'sent_similarity': 1.0, 'num_val': -5.5, 'TF_ISF_IDF': 3.0, 'sent_rank': 0.0, 'sent_length': 6.5, 'pos_keywords': 1.5, 'neg_keywords': -0.5, 'thematic_features': -7.0, 'named_entities': -3.0}. Best is trial 0 with value: 0.04047018111973586.\u001b[0m\n"
     ]
    },
    {
     "name": "stdout",
     "output_type": "stream",
     "text": [
      "Dataset processed in: 0.1825[sec]\n"
     ]
    },
    {
     "name": "stderr",
     "output_type": "stream",
     "text": [
      "computing scores: : 100%|████████████████████████████████████████████████████| 3/3 [00:00<00:00, 16.53it/s]\n",
      "\u001b[32m[I 2021-12-21 23:09:06,398]\u001b[0m Trial 1 finished with value: 0.043833188805929894 and parameters: {'TF': 10.0, 'sent_location': 4.5, 'proper_noun': -9.5, 'co_occur': -8.0, 'sent_similarity': -3.0, 'num_val': -8.0, 'TF_ISF_IDF': 6.0, 'sent_rank': -10.0, 'sent_length': 3.0, 'pos_keywords': -1.5, 'neg_keywords': -8.0, 'thematic_features': -2.5, 'named_entities': -4.0}. Best is trial 1 with value: 0.043833188805929894.\u001b[0m\n"
     ]
    },
    {
     "name": "stdout",
     "output_type": "stream",
     "text": [
      "Dataset processed in: 0.1825[sec]\n"
     ]
    },
    {
     "name": "stderr",
     "output_type": "stream",
     "text": [
      "computing scores: : 100%|████████████████████████████████████████████████████| 3/3 [00:00<00:00, 16.54it/s]\n",
      "\u001b[32m[I 2021-12-21 23:09:06,585]\u001b[0m Trial 2 finished with value: 0.06032999842676776 and parameters: {'TF': -2.5, 'sent_location': 10.0, 'proper_noun': -8.0, 'co_occur': -4.5, 'sent_similarity': -7.0, 'num_val': 5.0, 'TF_ISF_IDF': 7.0, 'sent_rank': 5.5, 'sent_length': -3.0, 'pos_keywords': 1.5, 'neg_keywords': 5.0, 'thematic_features': -1.0, 'named_entities': -7.0}. Best is trial 2 with value: 0.06032999842676776.\u001b[0m\n"
     ]
    },
    {
     "name": "stdout",
     "output_type": "stream",
     "text": [
      "Dataset processed in: 0.1826[sec]\n"
     ]
    },
    {
     "name": "stderr",
     "output_type": "stream",
     "text": [
      "computing scores: : 100%|███████████████████████████████████████████████████| 3/3 [00:00<00:00, 121.93it/s]"
     ]
    },
    {
     "name": "stdout",
     "output_type": "stream",
     "text": [
      "Dataset processed in: 0.0258[sec]\n",
      "          Rouge-2  Precision  F1-score\n",
      "False    0.009009   0.020833  0.012579\n",
      "False_9  0.117037   0.027061  0.043817\n",
      "True     0.193471   0.060330  0.091542\n",
      "True_9   0.139874   0.094984  0.109828\n"
     ]
    },
    {
     "name": "stderr",
     "output_type": "stream",
     "text": [
      "\n"
     ]
    }
   ],
   "source": [
    "# Scores weights optimization task\n",
    "best_weights_res = pd.DataFrame(data=[], columns=['Rouge-2', 'Precision', 'F1-score'])\n",
    "weights9 = {'False': [], 'True': []}\n",
    "\n",
    "for _lemma in [False, True]:\n",
    "    CNN_dataset = load_dataset('cnn_dailymail', '3.0.0')\n",
    "    CNN_processed = Dataset('Weights_finding_optimisation_task.json')\n",
    "    pipe = CNN_processed.build_dataset(CNN_dataset['train'], doc_th=100,\n",
    "                                       return_pipe=True, lemma=_lemma)\n",
    "\n",
    "    study = optuna.create_study(direction='maximize')\n",
    "    study.optimize(lambda trial: CNN_scores_weights_task(trial, CNN_processed, 'Precision',\n",
    "                                                         pipe, lemma=_lemma),\n",
    "                   n_trials=500)\n",
    "\n",
    "    weights = list(study.best_params.values())\n",
    "    weight_res = CNN_processed.rouge_computation(show=False, weights=weights)\n",
    "    \n",
    "    best_weights_res.loc[str(_lemma)] = weight_res.loc['Mean'].T\n",
    "    \n",
    "    for key, value in study.best_params.items():\n",
    "        if value > 9:\n",
    "            weights9[str(_lemma)].append(key)\n",
    "    \n",
    "    CNN_processed.process_dataset(lemma=_lemma, scoreList=weights9[str(_lemma)])\n",
    "    weight_9_rouge = CNN_processed.rouge_computation(show=False, weights=weights)\n",
    "    \n",
    "    best_weights_res.loc[str(_lemma)+'_9'] = weight_9_rouge.loc['Mean'].T\n",
    "print(best_weights_res)"
   ]
  },
  {
   "cell_type": "markdown",
   "id": "3e23cfb8",
   "metadata": {},
   "source": [
    "## Experiment: Best Representing subset, optimization task"
   ]
  },
  {
   "cell_type": "code",
   "execution_count": 112,
   "id": "d266c56b",
   "metadata": {
    "scrolled": true
   },
   "outputs": [
    {
     "name": "stderr",
     "output_type": "stream",
     "text": [
      "Reusing dataset cnn_dailymail (/home/davide/.cache/huggingface/datasets/cnn_dailymail/3.0.0/3.0.0/3cb851bf7cf5826e45d49db2863f627cba583cbc32342df7349dfe6c38060234)\n"
     ]
    },
    {
     "data": {
      "application/vnd.jupyter.widget-view+json": {
       "model_id": "7629907257784ae799c611e249157fc1",
       "version_major": 2,
       "version_minor": 0
      },
      "text/plain": [
       "  0%|          | 0/3 [00:00<?, ?it/s]"
      ]
     },
     "metadata": {},
     "output_type": "display_data"
    },
    {
     "name": "stderr",
     "output_type": "stream",
     "text": [
      "processing dataset: :   0%|                                         | 10/287113 [00:01<15:20:56,  5.20it/s]\n",
      "\u001b[32m[I 2021-12-22 00:44:32,519]\u001b[0m A new study created in memory with name: no-name-2f835f8b-3b3f-4fde-8d73-be2d93216613\u001b[0m\n",
      "computing scores: : 100%|██████████████████████████████████████████████████| 10/10 [00:00<00:00, 48.54it/s]\n",
      "\u001b[32m[I 2021-12-22 00:44:32,732]\u001b[0m Trial 0 finished with value: 0.02417095165362467 and parameters: {'Number_of_scores': 10, 'Score-0': 'sent_rank', 'Score-1': 'pos_keywords', 'Score-2': 'sent_rank', 'Score-3': 'sent_location', 'Score-4': 'thematic_features', 'Score-5': 'TF', 'Score-6': 'TF_ISF_IDF', 'Score-7': 'proper_noun', 'Score-8': 'co_occur', 'Score-9': 'num_val'}. Best is trial 0 with value: 0.02417095165362467.\u001b[0m\n"
     ]
    },
    {
     "name": "stdout",
     "output_type": "stream",
     "text": [
      "Dataset processed in: 0.2071[sec]\n"
     ]
    },
    {
     "name": "stderr",
     "output_type": "stream",
     "text": [
      "computing scores: : 100%|██████████████████████████████████████████████████| 10/10 [00:00<00:00, 47.94it/s]\n"
     ]
    },
    {
     "name": "stdout",
     "output_type": "stream",
     "text": [
      "Dataset processed in: 0.2097[sec]\n"
     ]
    },
    {
     "name": "stderr",
     "output_type": "stream",
     "text": [
      "computing scores: : 100%|██████████████████████████████████████████████████| 10/10 [00:00<00:00, 37.36it/s]\n",
      "\u001b[32m[I 2021-12-22 00:44:33,758]\u001b[0m Trial 1 finished with value: 0.09152306925512077 and parameters: {'Number_of_scores': 10, 'Score-0': 'co_occur', 'Score-1': 'named_entities', 'Score-2': 'pos_keywords', 'Score-3': 'neg_keywords', 'Score-4': 'neg_keywords', 'Score-5': 'sent_location', 'Score-6': 'sent_length', 'Score-7': 'num_val', 'Score-8': 'neg_keywords', 'Score-9': 'TF_ISF_IDF'}. Best is trial 1 with value: 0.09152306925512077.\u001b[0m\n"
     ]
    },
    {
     "name": "stdout",
     "output_type": "stream",
     "text": [
      "Dataset processed in: 0.2688[sec]\n"
     ]
    },
    {
     "name": "stderr",
     "output_type": "stream",
     "text": [
      "computing scores: : 100%|██████████████████████████████████████████████████| 10/10 [00:00<00:00, 35.65it/s]\n"
     ]
    },
    {
     "name": "stdout",
     "output_type": "stream",
     "text": [
      "Dataset processed in: 0.2817[sec]\n"
     ]
    },
    {
     "name": "stderr",
     "output_type": "stream",
     "text": [
      "computing scores: : 100%|█████████████████████████████████████████████████| 10/10 [00:00<00:00, 124.43it/s]\n",
      "\u001b[32m[I 2021-12-22 00:44:34,702]\u001b[0m Trial 2 finished with value: 0.03346488975981136 and parameters: {'Number_of_scores': 2, 'Score-0': 'TF_ISF_IDF', 'Score-1': 'named_entities'}. Best is trial 1 with value: 0.09152306925512077.\u001b[0m\n"
     ]
    },
    {
     "name": "stdout",
     "output_type": "stream",
     "text": [
      "Dataset processed in: 0.0814[sec]\n"
     ]
    },
    {
     "name": "stderr",
     "output_type": "stream",
     "text": [
      "computing scores: : 100%|██████████████████████████████████████████████████| 10/10 [00:00<00:00, 36.06it/s]\n"
     ]
    },
    {
     "name": "stdout",
     "output_type": "stream",
     "text": [
      "Dataset processed in: 0.2784[sec]\n"
     ]
    },
    {
     "name": "stderr",
     "output_type": "stream",
     "text": [
      "processing dataset: :   0%|                                         | 10/287113 [00:01<15:39:35,  5.09it/s]\n",
      "\u001b[32m[I 2021-12-22 00:44:38,510]\u001b[0m A new study created in memory with name: no-name-e160813b-3896-46f5-a741-6f221120001c\u001b[0m\n",
      "computing scores: : 100%|██████████████████████████████████████████████████| 10/10 [00:00<00:00, 25.47it/s]\n",
      "\u001b[32m[I 2021-12-22 00:44:38,909]\u001b[0m Trial 0 finished with value: 0.04583317833089087 and parameters: {'Number_of_scores': 12, 'Score-0': 'TF_ISF_IDF', 'Score-1': 'TF', 'Score-2': 'TF_ISF_IDF', 'Score-3': 'sent_rank', 'Score-4': 'neg_keywords', 'Score-5': 'TF', 'Score-6': 'named_entities', 'Score-7': 'sent_length', 'Score-8': 'num_val', 'Score-9': 'pos_keywords', 'Score-10': 'sent_similarity', 'Score-11': 'sent_rank'}. Best is trial 0 with value: 0.04583317833089087.\u001b[0m\n"
     ]
    },
    {
     "name": "stdout",
     "output_type": "stream",
     "text": [
      "Dataset processed in: 0.3935[sec]\n"
     ]
    },
    {
     "name": "stderr",
     "output_type": "stream",
     "text": [
      "computing scores: : 100%|██████████████████████████████████████████████████| 10/10 [00:00<00:00, 26.36it/s]\n"
     ]
    },
    {
     "name": "stdout",
     "output_type": "stream",
     "text": [
      "Dataset processed in: 0.3806[sec]\n"
     ]
    },
    {
     "name": "stderr",
     "output_type": "stream",
     "text": [
      "computing scores: : 100%|██████████████████████████████████████████████████| 10/10 [00:00<00:00, 36.93it/s]\n",
      "\u001b[32m[I 2021-12-22 00:44:40,096]\u001b[0m Trial 1 finished with value: 0.11960157044567062 and parameters: {'Number_of_scores': 12, 'Score-0': 'TF_ISF_IDF', 'Score-1': 'TF_ISF_IDF', 'Score-2': 'proper_noun', 'Score-3': 'sent_location', 'Score-4': 'sent_length', 'Score-5': 'sent_rank', 'Score-6': 'pos_keywords', 'Score-7': 'TF', 'Score-8': 'pos_keywords', 'Score-9': 'named_entities', 'Score-10': 'neg_keywords', 'Score-11': 'thematic_features'}. Best is trial 1 with value: 0.11960157044567062.\u001b[0m\n"
     ]
    },
    {
     "name": "stdout",
     "output_type": "stream",
     "text": [
      "Dataset processed in: 0.2719[sec]\n"
     ]
    },
    {
     "name": "stderr",
     "output_type": "stream",
     "text": [
      "computing scores: : 100%|██████████████████████████████████████████████████| 10/10 [00:00<00:00, 35.85it/s]\n"
     ]
    },
    {
     "name": "stdout",
     "output_type": "stream",
     "text": [
      "Dataset processed in: 0.2801[sec]\n"
     ]
    },
    {
     "name": "stderr",
     "output_type": "stream",
     "text": [
      "computing scores: : 100%|██████████████████████████████████████████████████| 10/10 [00:00<00:00, 61.83it/s]\n",
      "\u001b[32m[I 2021-12-22 00:44:41,080]\u001b[0m Trial 2 finished with value: 0.11022877259293822 and parameters: {'Number_of_scores': 3, 'Score-0': 'TF', 'Score-1': 'neg_keywords', 'Score-2': 'thematic_features'}. Best is trial 1 with value: 0.11960157044567062.\u001b[0m\n"
     ]
    },
    {
     "name": "stdout",
     "output_type": "stream",
     "text": [
      "Dataset processed in: 0.1628[sec]\n"
     ]
    },
    {
     "name": "stderr",
     "output_type": "stream",
     "text": [
      "computing scores: : 100%|██████████████████████████████████████████████████| 10/10 [00:00<00:00, 36.06it/s]"
     ]
    },
    {
     "name": "stdout",
     "output_type": "stream",
     "text": [
      "Dataset processed in: 0.2784[sec]\n",
      "                        Rouge-2  Precision  F1-score\n",
      "Precision_Lemma_False  0.094984   0.027292  0.041944\n",
      "Rouge-2_Lemma_False    0.086820   0.024171  0.037427\n",
      "F1-score_Lemma_False   0.086820   0.024171  0.037427\n",
      "Precision_Lemma_True   0.120567   0.042817  0.062490\n",
      "Rouge-2_Lemma_True     0.098677   0.036076  0.052214\n",
      "F1-score_Lemma_True    0.089973   0.036076  0.050930 \n",
      "\n",
      "Precision_Lemma_False \t {'co_occur', 'TF_ISF_IDF', 'thematic_features', 'sent_rank', 'pos_keywords', 'proper_noun', 'num_val', 'TF', 'sent_location'}\n",
      "Rouge-2_Lemma_False \t {'co_occur', 'TF_ISF_IDF', 'neg_keywords', 'pos_keywords', 'sent_length', 'num_val', 'named_entities', 'sent_location'}\n",
      "F1-score_Lemma_False \t {'co_occur', 'TF_ISF_IDF', 'neg_keywords', 'pos_keywords', 'sent_length', 'num_val', 'named_entities', 'sent_location'}\n",
      "Precision_Lemma_True \t {'sent_similarity', 'neg_keywords', 'sent_rank', 'pos_keywords', 'sent_length', 'num_val', 'named_entities', 'TF', 'TF_ISF_IDF'}\n",
      "Rouge-2_Lemma_True \t {'TF_ISF_IDF', 'neg_keywords', 'sent_rank', 'pos_keywords', 'thematic_features', 'proper_noun', 'sent_length', 'named_entities', 'TF', 'sent_location'}\n",
      "F1-score_Lemma_True \t {'TF_ISF_IDF', 'neg_keywords', 'sent_rank', 'pos_keywords', 'thematic_features', 'proper_noun', 'sent_length', 'named_entities', 'TF', 'sent_location'}\n"
     ]
    },
    {
     "name": "stderr",
     "output_type": "stream",
     "text": [
      "\n"
     ]
    }
   ],
   "source": [
    "CNN_dataset = load_dataset('cnn_dailymail', '3.0.0')\n",
    "CNN_processed = Dataset('Weights_finding_optimisation_task.json')\n",
    "\n",
    "subset_rouge = pd.DataFrame(columns=['Rouge-2', 'Precision', 'F1-score'])\n",
    "subsets = {}\n",
    "_num_doc = 100\n",
    "\n",
    "for _lemma in [False, True]:\n",
    "    pipe = CNN_processed.build_dataset(CNN_dataset['train'], doc_th=_num_doc,\n",
    "                                       return_pipe=True, lemma=_lemma, suppress_warnings=True)\n",
    "    study = optuna.create_study(direction='maximize')\n",
    "    for _value in ['Precision', 'Rouge-2', 'F1-score']:\n",
    "        study.optimize(lambda trial: CNN_scores_best_representation(trial,\n",
    "                                                                    CNN_processed,\n",
    "                                                                    _value,\n",
    "                                                                    pipe,\n",
    "                                                                    lemma=_lemma),\n",
    "                       n_trials=500)\n",
    "\n",
    "        subset = set()\n",
    "        for key, value in study.best_params.items():\n",
    "            if key != 'Number_of_scores':\n",
    "                subset.add(value)\n",
    "        \n",
    "        CNN_processed.process_dataset(lemma=_lemma, scoreList=subset)\n",
    "        index = _value + '_Lemma_{}'.format(_lemma)\n",
    "        subsets[index] = subset\n",
    "        subset_rouge.loc[index] = CNN_processed.rouge_computation(show=False).loc['Mean'].T\n",
    "    CNN_processed.__init__('Weights_finding_optimisation_task.json')\n",
    "print(subset_rouge, '\\n')\n",
    "\n",
    "for key, value in subsets.items():\n",
    "    print(key, '\\t', value)"
   ]
  },
  {
   "cell_type": "code",
   "execution_count": null,
   "id": "d2d428ab",
   "metadata": {},
   "outputs": [],
   "source": []
  }
 ],
 "metadata": {
  "kernelspec": {
   "display_name": "Python 3 (ipykernel)",
   "language": "python",
   "name": "python3"
  },
  "language_info": {
   "codemirror_mode": {
    "name": "ipython",
    "version": 3
   },
   "file_extension": ".py",
   "mimetype": "text/x-python",
   "name": "python",
   "nbconvert_exporter": "python",
   "pygments_lexer": "ipython3",
   "version": "3.8.10"
  }
 },
 "nbformat": 4,
 "nbformat_minor": 5
}
